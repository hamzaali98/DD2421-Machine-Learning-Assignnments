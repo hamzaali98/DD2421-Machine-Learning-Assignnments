{
 "cells": [
  {
   "cell_type": "code",
   "execution_count": 1,
   "metadata": {
    "collapsed": true
   },
   "outputs": [
    {
     "data": {
      "text/plain": "1.0"
     },
     "execution_count": 1,
     "metadata": {},
     "output_type": "execute_result"
    }
   ],
   "source": [
    "import monkdata as m\n",
    "import dtree as d\n",
    "\n",
    "d.entropy(m.monk1)"
   ]
  },
  {
   "cell_type": "code",
   "execution_count": 2,
   "outputs": [
    {
     "name": "stdout",
     "output_type": "stream",
     "text": [
      "0.007120868396071844\n",
      "0.29373617350838865\n",
      "0.0008311140445336207\n",
      "0.002891817288654397\n",
      "0.25591172461972755\n",
      "0.007077026074097326\n"
     ]
    }
   ],
   "source": [
    "for i in range(0,6):\n",
    "    print(d.averageGain(m.monk3, m.attributes[i]))"
   ],
   "metadata": {
    "collapsed": false
   }
  },
  {
   "cell_type": "code",
   "execution_count": 3,
   "outputs": [
    {
     "name": "stdout",
     "output_type": "stream",
     "text": [
      "29\n",
      "0.0\n",
      "0.0\n",
      "0.0\n",
      "0.0\n",
      "0.0\n",
      "31\n",
      "0.040216841609413634\n",
      "0.015063475072186083\n",
      "0.03727262736015946\n",
      "0.04889220262952931\n",
      "0.025807284723902146\n",
      "30\n",
      "0.03305510013455182\n",
      "0.002197183539100922\n",
      "0.017982293842278896\n",
      "0.01912275517747053\n",
      "0.04510853782483648\n",
      "34\n",
      "0.20629074641530198\n",
      "0.033898395077640586\n",
      "0.025906145434984817\n",
      "0.07593290844153944\n",
      "0.0033239629631565126\n"
     ]
    }
   ],
   "source": [
    "subset = []\n",
    "for i in range(1,5):\n",
    "    subset.append(d.select(m.monk1, m.attributes[4],i))\n",
    "    print(len(subset[i-1]))\n",
    "    for j in range(0,6):\n",
    "        if j != 4:\n",
    "            print(d.averageGain(subset[i-1], m.attributes[j]))\n",
    "\n"
   ],
   "metadata": {
    "collapsed": false
   }
  },
  {
   "cell_type": "code",
   "execution_count": 4,
   "outputs": [
    {
     "ename": "SystemExit",
     "evalue": "0",
     "output_type": "error",
     "traceback": [
      "An exception has occurred, use %tb to see the full traceback.\n",
      "\u001B[0;31mSystemExit\u001B[0m\u001B[0;31m:\u001B[0m 0\n"
     ]
    },
    {
     "name": "stderr",
     "output_type": "stream",
     "text": [
      "/Users/hamzaali/opt/anaconda3/lib/python3.9/site-packages/IPython/core/interactiveshell.py:3377: UserWarning: To exit: use 'exit', 'quit', or Ctrl-D.\n",
      "  warn(\"To exit: use 'exit', 'quit', or Ctrl-D.\", stacklevel=1)\n"
     ]
    }
   ],
   "source": [
    "import drawtree_qt5 as qt\n",
    "qt.drawTree(d.buildTree(m.monk1, m.attributes, 2))"
   ],
   "metadata": {
    "collapsed": false
   }
  },
  {
   "cell_type": "code",
   "execution_count": null,
   "outputs": [],
   "source": [
    "print(1-d.check(d.buildTree(m.monk1, m.attributes), m.monk1test))"
   ],
   "metadata": {
    "collapsed": false
   }
  },
  {
   "cell_type": "code",
   "execution_count": null,
   "outputs": [],
   "source": [
    "import numpy as np\n",
    "import matplotlib.pyplot as plt\n",
    "\n",
    "partition = [0.8, 0.7, 0.6, 0.5, 0.4, 0.3, 0.2]\n",
    "partition2 = [0.80, 0.79, 0.78, 0.77, 0.76, 0.75, 0.74, 0.73, 0.72, 0.71]\n",
    "meanArray = np.zeros(len(partition))\n",
    "varArray = np.zeros(len(partition))\n",
    "temp = np.zeros(100)\n",
    "axis = np.array([0.1, 0.2, 0.3, 0.4, 0.5, 0.6, 0.7, 0.8, 0.9, 1])\n",
    "\n",
    "for k in range(0,len(partition)):\n",
    "    for i in range(0,len(temp)):\n",
    "        monk1train, monk1val = d.partition(m.monk3, partition[k])\n",
    "        # print(len(monk1train))\n",
    "        # print(len(monk1val))\n",
    "        pruned = d.allPruned(d.buildTree(monk1train, m.attributes))\n",
    "        best = 0\n",
    "        bestTree = pruned[0]\n",
    "        # print(\"Length of Pruned Tress: \",len(pruned))\n",
    "        for j in range(0,len(pruned)):\n",
    "            check = (d.check(pruned[j], monk1val))\n",
    "            # print(check)\n",
    "            if check >= best:\n",
    "                best = check\n",
    "                bestTree = pruned[j]\n",
    "        temp[i] = best\n",
    "    # print(temp)\n",
    "\n",
    "    meanArray[k] = 1-(temp.mean())\n",
    "    varArray[k] = 1-(temp.var())\n",
    "print(1-meanArray)\n",
    "\n",
    "plt.subplot(1,1,1)\n",
    "plt.plot(partition,  meanArray, 'r*-', label = 'Mean')\n",
    "plt.xlabel('Partition Size')\n",
    "plt.ylabel('Mean of Validation Data Error')\n",
    "plt.title('Mean Error vs. Partition Size (over 100 splits of training data)')\n",
    "plt.legend()\n",
    "plt.show()\n",
    "plt.subplot(2,1,1)\n",
    "plt.plot(partition, varArray, 'r*-', label = 'Variance')\n",
    "plt.xlabel('Partition Size')\n",
    "plt.ylabel('Variance of Validation Data Error' )\n",
    "plt.title('Variance of Error vs Partition Size (over 100 splits of training data)')\n",
    "plt.legend()\n",
    "plt.show()\n",
    "\n",
    "    # qt.drawTree(bestTree)\n"
   ],
   "metadata": {
    "collapsed": false
   }
  },
  {
   "cell_type": "markdown",
   "source": [],
   "metadata": {
    "collapsed": false
   }
  },
  {
   "cell_type": "markdown",
   "source": [],
   "metadata": {
    "collapsed": false
   }
  }
 ],
 "metadata": {
  "kernelspec": {
   "display_name": "Python 3",
   "language": "python",
   "name": "python3"
  },
  "language_info": {
   "codemirror_mode": {
    "name": "ipython",
    "version": 2
   },
   "file_extension": ".py",
   "mimetype": "text/x-python",
   "name": "python",
   "nbconvert_exporter": "python",
   "pygments_lexer": "ipython2",
   "version": "2.7.6"
  }
 },
 "nbformat": 4,
 "nbformat_minor": 0
}
